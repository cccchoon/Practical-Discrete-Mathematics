{
  "cells": [
    {
      "cell_type": "markdown",
      "metadata": {
        "id": "lS81ZvjC0R7R"
      },
      "source": [
        "# Chapter 4 - Combinatorics Using SciPy\n",
        "\n",
        "This notebook contains code accompanying Chapter 4 Combinatorics Using SciPy in *Practical Discrete Mathematics* by Ryan T. White and Archana Tikayat Ray.\n",
        "\n",
        "## Counting Permutations and Combinations of Objects\n",
        "\n",
        "### Growth of Factorials\n",
        "\n",
        "Below, we compute some factorials, which count permutations."
      ]
    },
    {
      "cell_type": "code",
      "execution_count": null,
      "metadata": {
        "id": "qaorgIFQ0R7U",
        "outputId": "3900ab88-43c4-463e-8f0d-bd2b05ab641e"
      },
      "outputs": [
        {
          "name": "stdout",
          "output_type": "stream",
          "text": [
            "2432902008176640000\n",
            "93326215443944152681699238856266700490715968264381621468592963895217599993229915608941463976156518286253697920827223758251185210916864000000000000000000000000\n"
          ]
        }
      ],
      "source": [
        "import math\n",
        "print(math.factorial(20))\n",
        "print(math.factorial(100))"
      ]
    },
    {
      "cell_type": "markdown",
      "metadata": {
        "id": "WnGZHv4l0R7V"
      },
      "source": [
        "### Example: Counting playlists\n",
        "\n",
        "The number of 10-permutations of the 20-song list can be computed with Python as follows."
      ]
    },
    {
      "cell_type": "code",
      "execution_count": null,
      "metadata": {
        "id": "X3ARb9-a0R7V",
        "outputId": "328b2e77-0e64-4b46-c0ba-44dbb7912a3f"
      },
      "outputs": [
        {
          "name": "stdout",
          "output_type": "stream",
          "text": [
            "670442572800.0\n"
          ]
        }
      ],
      "source": [
        "import math\n",
        "print(math.factorial(20)/math.factorial(20-10))"
      ]
    },
    {
      "cell_type": "markdown",
      "metadata": {
        "id": "BLXCPGOu0R7W"
      },
      "source": [
        "### Example: Teambuilding\n",
        "\n",
        "The code below finds the number of possible 4-person teams we could build from four of twenty people."
      ]
    },
    {
      "cell_type": "code",
      "execution_count": null,
      "metadata": {
        "id": "aY2MhGoZ0R7W",
        "outputId": "410ff7d8-8f0b-4f7d-b306-c53da0db699a"
      },
      "outputs": [
        {
          "name": "stdout",
          "output_type": "stream",
          "text": [
            "4845.0\n",
            "4845.0\n"
          ]
        }
      ],
      "source": [
        "# using the factorial function\n",
        "import math\n",
        "print(math.factorial(20) / math.factorial(4) / math.factorial(20-4))\n",
        "\n",
        "# import the special functions from sciPy\n",
        "import scipy.special\n",
        "print(scipy.special.binom(20,4))"
      ]
    },
    {
      "cell_type": "markdown",
      "metadata": {
        "id": "UM9-RR9J0R7X"
      },
      "source": [
        "## Applications to Memory Allocation\n",
        "\n",
        "### Example: Pre-allocating Memory\n",
        "\n",
        "Suppose we wish to create a large list of 1,000,000 numbers. The simplest way is to just run a loop, adding one element at a time to the vector. (Note that the runtime will vary depending on the hardware where you run the code.)"
      ]
    },
    {
      "cell_type": "code",
      "execution_count": null,
      "metadata": {
        "id": "5emkpstt0R7X",
        "outputId": "0861f4ba-7742-4ee9-cf93-0d144d20ecf4"
      },
      "outputs": [
        {
          "name": "stdout",
          "output_type": "stream",
          "text": [
            "0.13155269622802734\n"
          ]
        }
      ],
      "source": [
        "import time\n",
        "\n",
        "number = 1000000\n",
        "\n",
        "# Check the current time\n",
        "startTime = time.time()\n",
        "\n",
        "# Create an empty list\n",
        "list = []\n",
        "\n",
        "# Add items to the list one by one\n",
        "for counter in range(number):\n",
        "    list.append(counter)\n",
        "\n",
        "# Display the run time\n",
        "print(time.time() - startTime)"
      ]
    },
    {
      "cell_type": "markdown",
      "metadata": {
        "id": "loaPa7Yz0R7Y"
      },
      "source": [
        "The code below can pre-allocate an array with 1,000,000 and fill it in with 1, 2, ..., 1,000,000. (Note that the runtime will vary depending on the hardware where you run the code.)"
      ]
    },
    {
      "cell_type": "code",
      "execution_count": null,
      "metadata": {
        "id": "PLvFHXrA0R7Y",
        "outputId": "021f7899-0451-4162-f5ba-154ee363d6e4"
      },
      "outputs": [
        {
          "name": "stdout",
          "output_type": "stream",
          "text": [
            "0.10027527809143066\n"
          ]
        }
      ],
      "source": [
        "import time\n",
        "number = 1000000\n",
        "\n",
        "# Check the current time\n",
        "startTime = time.time()\n",
        "\n",
        "# Create a list of 1000000 zeros\n",
        "list = [None]*number\n",
        "\n",
        "# Add items to the list one by one\n",
        "for counter in range(number):\n",
        "    list[counter] = counter\n",
        "\n",
        "# Display the run time\n",
        "print(time.time() - startTime)"
      ]
    },
    {
      "cell_type": "markdown",
      "metadata": {
        "id": "QHWTCYwC0R7Y"
      },
      "source": [
        "## Efficacy of Brute Force Algorithms\n",
        "\n",
        "### Example: Caesar Cipher\n",
        "\n",
        "A brute force check of how the text would be decoded for each possible Caesar cipher."
      ]
    },
    {
      "cell_type": "code",
      "execution_count": null,
      "metadata": {
        "id": "DolPKPPH0R7Z",
        "outputId": "086f3734-88d6-4995-d6ec-ea6c4b7bd139"
      },
      "outputs": [
        {
          "name": "stdout",
          "output_type": "stream",
          "text": [
            "0 nzohfu gur rarzl ng avtug\n",
            "1 oapigv hvs sbsam oh bwuvh\n",
            "2 pbqjhw iwt tctbn pi cxvwi\n",
            "3 qcrkix jxu uduco qj dywxj\n",
            "4 rdsljy kyv vevdp rk ezxyk\n",
            "5 setmkz lzw wfweq sl fayzl\n",
            "6 tfunla max xgxfr tm gbzam\n",
            "7 ugvomb nby yhygs un hcabn\n",
            "8 vhwpnc ocz zizht vo idbco\n",
            "9 wixqod pda ajaiu wp jecdp\n",
            "10 xjyrpe qeb bkbjv xq kfdeq\n",
            "11 ykzsqf rfc clckw yr lgefr\n",
            "12 zlatrg sgd dmdlx zs mhfgs\n",
            "13 ambush the enemy at night\n",
            "14 bncvti uif fofnz bu ojhiu\n",
            "15 codwuj vjg gpgoa cv pkijv\n",
            "16 dpexvk wkh hqhpb dw qljkw\n",
            "17 eqfywl xli iriqc ex rmklx\n",
            "18 frgzxm ymj jsjrd fy snlmy\n",
            "19 gshayn znk ktkse gz tomnz\n",
            "20 htibzo aol lultf ha upnoa\n",
            "21 iujcap bpm mvmug ib vqopb\n",
            "22 jvkdbq cqn nwnvh jc wrpqc\n",
            "23 kwlecr dro oxowi kd xsqrd\n",
            "24 lxmfds esp pypxj le ytrse\n",
            "25 mynget ftq qzqyk mf zustf\n"
          ]
        }
      ],
      "source": [
        "# Intercepted message\n",
        "codedMessage = 'nzohfu gur rarzl ng avtug'\n",
        "\n",
        "# We will shift by 0, shift by 1, shift by 2, ... and print the results\n",
        "for counter in range(26):\n",
        "    # Start with no guess\n",
        "    guessedMessage = ''\n",
        "\n",
        "    # Loop through each letter in the coded message\n",
        "    for x in codedMessage:\n",
        "\n",
        "        # If x is not a space\n",
        "        if x != ' ':\n",
        "\n",
        "            # Shift the letter forward by counter\n",
        "            if ord(x)+counter <= 122:\n",
        "                x = chr(ord(x)+counter)\n",
        "\n",
        "            # Subtract 26 if we go beyond z\n",
        "            else:\n",
        "                x = chr(ord(x)+counter-26)\n",
        "\n",
        "        # Build a guess for the message one letter at a time\n",
        "        guessedMessage = guessedMessage + x\n",
        "\n",
        "    # Print the counter (the shift) and the message\n",
        "    print(counter, guessedMessage)\n"
      ]
    },
    {
      "cell_type": "markdown",
      "metadata": {
        "id": "tHgiWB0r0R7Z"
      },
      "source": [
        "Clearly, the length of the shift is 13 letters as only this one produces an intelligible message."
      ]
    },
    {
      "cell_type": "markdown",
      "source": [
        "Given the following original and decrypted words, write a Python function to determine the possible cipher keys used in a Caesar cipher. The function should ignore any non-alphabetic characters in the words.\n",
        "\n",
        "• Original Word: \"S3CURE!\"\n",
        "\n",
        "• Decrypted Word: \"V3FZWH!\"\n",
        "\n",
        "What are the possible keys, and how would you implement this in Python?"
      ],
      "metadata": {
        "id": "O1pu2Znt6kFK"
      }
    },
    {
      "cell_type": "code",
      "source": [
        "def find_caesar_keys(original, decrypted):\n",
        "    possible_keys = set()\n",
        "\n",
        "\n",
        "    for o, d in zip(original, decrypted):\n",
        "\n",
        "        if o.isalpha() and d.isalpha():\n",
        "\n",
        "            shift = (ord(d.upper()) - ord(o.upper())) % 26\n",
        "            possible_keys.add(shift)\n",
        "\n",
        "\n",
        "    return possible_keys if possible_keys else \"No consistent key found\"\n",
        "\n",
        "\n",
        "original_word = \"S3CURE!\"\n",
        "decrypted_word = \"V3FZWH!\"\n",
        "keys = find_caesar_keys(original_word, decrypted_word)\n",
        "print(f\"Possible Caesar cipher keys: {keys}\")"
      ],
      "metadata": {
        "id": "Ai4f9iux8ds-",
        "outputId": "afd1168b-2cc2-4464-e9a2-8a83ef1dc315",
        "colab": {
          "base_uri": "https://localhost:8080/"
        }
      },
      "execution_count": 3,
      "outputs": [
        {
          "output_type": "stream",
          "name": "stdout",
          "text": [
            "Possible Caesar cipher keys: {3, 5}\n"
          ]
        }
      ]
    }
  ],
  "metadata": {
    "kernelspec": {
      "display_name": "Python 3",
      "name": "python3"
    },
    "language_info": {
      "name": "python"
    },
    "colab": {
      "provenance": []
    }
  },
  "nbformat": 4,
  "nbformat_minor": 0
}