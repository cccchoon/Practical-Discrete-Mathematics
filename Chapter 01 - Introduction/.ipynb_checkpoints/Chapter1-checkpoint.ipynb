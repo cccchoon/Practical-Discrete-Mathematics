{
  "cells": [
    {
      "cell_type": "markdown",
      "metadata": {
        "id": "3rilobP4rFij"
      },
      "source": [
        "# Chapter 1 - Introduction: Key Concepts, Notation, Set Theory, Relations, and Functions\n",
        "\n",
        "This notebook contains code accompanying Chapter 1 Introduction: Key Concepts, Notation, Set Theory, Relations, and Functions in *Practical Discrete Mathematics* by Ryan T. White and Archana Tikayat Ray\n",
        "\n",
        "## Functions and Relations\n",
        "\n",
        "### The `sort()` function"
      ]
    },
    {
      "cell_type": "code",
      "execution_count": null,
      "metadata": {
        "id": "XKw3GdonrFil",
        "outputId": "2750c9e8-afa7-49e6-b30a-1e68977e232c"
      },
      "outputs": [
        {
          "name": "stdout",
          "output_type": "stream",
          "text": [
            "[1, 2, 3, 4, 5, 8, 9, 12]\n",
            "['Brandon', 'Elise', 'Eugene', 'Kumar', 'Wyatt']\n"
          ]
        }
      ],
      "source": [
        "numbers = [3, 1, 4, 12, 8, 5, 2, 9]\n",
        "names = ['Wyatt', 'Brandon', 'Kumar', 'Eugene', 'Elise']\n",
        "\n",
        "# Apply the sort() function to the lists\n",
        "numbers.sort()\n",
        "names.sort()\n",
        "\n",
        "# Display the output\n",
        "print(numbers)\n",
        "print(names)"
      ]
    },
    {
      "cell_type": "markdown",
      "metadata": {
        "id": "1kpZNHhnrFim"
      },
      "source": [
        "### The `shuffle()` function"
      ]
    },
    {
      "cell_type": "code",
      "execution_count": null,
      "metadata": {
        "id": "18cwL83prFin",
        "outputId": "c7a6f618-b267-4a41-cc5f-0034735b9e07"
      },
      "outputs": [
        {
          "name": "stdout",
          "output_type": "stream",
          "text": [
            "[12, 2, 1, 5, 9, 3, 8, 4]\n",
            "[4, 2, 8, 3, 1, 12, 5, 9]\n",
            "[4, 5, 1, 9, 3, 8, 12, 2]\n",
            "[9, 12, 2, 8, 5, 3, 4, 1]\n",
            "[9, 8, 4, 3, 12, 1, 5, 2]\n"
          ]
        }
      ],
      "source": [
        "import random\n",
        "\n",
        "# Set a random seed so the code is reproducible\n",
        "random.seed(1)\n",
        "\n",
        "# Run the random.shuffle() function 5 times and display the outputs\n",
        "for i in range(0,5):\n",
        "    numbers = [3, 1, 4, 12, 8, 5, 2, 9]\n",
        "    random.shuffle(numbers)\n",
        "    print(numbers)"
      ]
    },
    {
      "cell_type": "code",
      "source": [
        "import pandas as pd\n",
        "\n",
        "P = [True, True, False, False]\n",
        "Q = [True, False, True, False]\n",
        "\n",
        "P_and_Q = [p and q for p, q in zip(P, Q)]\n",
        "P_or_Q = [p or q for p, q in zip(P, Q)]\n",
        "not_P = [not p for p in P]\n",
        "\n",
        "truth_table = {\n",
        "    'P': P,\n",
        "    'Q': Q,\n",
        "    'P AND Q': P_and_Q,\n",
        "    'P OR Q': P_or_Q,\n",
        "    'NOT P': not_P\n",
        "}\n",
        "\n",
        "df = pd.DataFrame(truth_table)\n",
        "\n",
        "print(df)"
      ],
      "metadata": {
        "id": "s5dNPe22tujk",
        "outputId": "02974325-472f-4939-9ebc-f1059104a222",
        "colab": {
          "base_uri": "https://localhost:8080/"
        }
      },
      "execution_count": 9,
      "outputs": [
        {
          "output_type": "stream",
          "name": "stdout",
          "text": [
            "       P      Q  P AND Q  P OR Q  NOT P\n",
            "0   True   True     True    True  False\n",
            "1   True  False    False    True  False\n",
            "2  False   True    False    True   True\n",
            "3  False  False    False   False   True\n"
          ]
        }
      ]
    },
    {
      "cell_type": "markdown",
      "source": [
        "Question: Request user input of a simple proposition statement. Create a truth table"
      ],
      "metadata": {
        "id": "SHgQ0fTsyVwg"
      }
    },
    {
      "cell_type": "code",
      "source": [
        "# Define the truth values for p and q\n",
        "truth_values = [True, False]\n",
        "\n",
        "# Create a header for the truth table\n",
        "print(f\"{'p':<5} {'q':<5} {'p AND q':<10}\")\n",
        "print(\"-\" * 20)  # Add a line separator\n",
        "\n",
        "# Iterate over all possible truth values of p and q\n",
        "for p in truth_values:\n",
        "    for q in truth_values:\n",
        "        result = p and q\n",
        "        print(f\"{str(p):<5} {str(q):<5} {str(result):<10}\")"
      ],
      "metadata": {
        "id": "LEjdJ44O24oo",
        "outputId": "b4463715-3c39-4650-d865-5c4b63ba3509",
        "colab": {
          "base_uri": "https://localhost:8080/"
        }
      },
      "execution_count": 14,
      "outputs": [
        {
          "output_type": "stream",
          "name": "stdout",
          "text": [
            "p     q     p AND q   \n",
            "--------------------\n",
            "True  True  True      \n",
            "True  False False     \n",
            "False True  False     \n",
            "False False False     \n"
          ]
        }
      ]
    }
  ],
  "metadata": {
    "kernelspec": {
      "display_name": "Python 3.7 (DL)",
      "language": "python",
      "name": "dl"
    },
    "language_info": {
      "codemirror_mode": {
        "name": "ipython",
        "version": 3
      },
      "file_extension": ".py",
      "mimetype": "text/x-python",
      "name": "python",
      "nbconvert_exporter": "python",
      "pygments_lexer": "ipython3",
      "version": "3.7.7"
    },
    "colab": {
      "provenance": []
    }
  },
  "nbformat": 4,
  "nbformat_minor": 0
}